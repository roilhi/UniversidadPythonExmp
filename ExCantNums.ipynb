{
 "cells": [
  {
   "cell_type": "code",
   "execution_count": 93,
   "source": [
    "import numpy as np"
   ],
   "outputs": [],
   "metadata": {}
  },
  {
   "cell_type": "code",
   "execution_count": 98,
   "source": [
    "x = 221221"
   ],
   "outputs": [],
   "metadata": {}
  },
  {
   "cell_type": "code",
   "execution_count": 99,
   "source": [
    "x_str = str(x)\r\n",
    "x_len = len(x_str)"
   ],
   "outputs": [],
   "metadata": {}
  },
  {
   "cell_type": "code",
   "execution_count": 100,
   "source": [
    "xp_1 = int(x_str[0:divmod(len(x_str),2)[0]])\r\n",
    "xp_2 = int(x_str[-divmod(len(x_str),2)[0]:])"
   ],
   "outputs": [],
   "metadata": {}
  },
  {
   "cell_type": "code",
   "execution_count": 101,
   "source": [
    "if(xp_1>xp_2):\r\n",
    "    print(f'La primer parte par {xp_1} del número {x} es mayor')\r\n",
    "elif(xp_1<xp_2):\r\n",
    "    print(f'La segunda parte par {xp_2} del número {x} es mayor')\r\n",
    "elif(xp_1==xp_2):\r\n",
    "    print(f'Ambas partes pares del número {x} son iguales')"
   ],
   "outputs": [
    {
     "output_type": "stream",
     "name": "stdout",
     "text": [
      "Ambas partes pares del número 221221 son iguales\n"
     ]
    }
   ],
   "metadata": {}
  }
 ],
 "metadata": {
  "orig_nbformat": 4,
  "language_info": {
   "name": "python",
   "version": "3.9.4",
   "mimetype": "text/x-python",
   "codemirror_mode": {
    "name": "ipython",
    "version": 3
   },
   "pygments_lexer": "ipython3",
   "nbconvert_exporter": "python",
   "file_extension": ".py"
  },
  "kernelspec": {
   "name": "python3",
   "display_name": "Python 3.9.4 64-bit"
  },
  "interpreter": {
   "hash": "ac59ebe37160ed0dfa835113d9b8498d9f09ceb179beaac4002f036b9467c963"
  }
 },
 "nbformat": 4,
 "nbformat_minor": 2
}